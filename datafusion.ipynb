{
 "cells": [
  {
   "cell_type": "code",
   "execution_count": 18,
   "id": "3e2c1517-b436-459f-ac02-f4de05209a9e",
   "metadata": {},
   "outputs": [
    {
     "data": {
      "text/plain": [
       "Timing: true\n"
      ]
     },
     "execution_count": 18,
     "metadata": {},
     "output_type": "execute_result"
    },
    {
     "data": {
      "text/html": [
       "<span style=\"color: rgba(0,0,0,0.4);\">Took 95963ms</span>"
      ]
     },
     "execution_count": 18,
     "metadata": {},
     "output_type": "execute_result"
    }
   ],
   "source": [
    ":timing\n",
    ":dep datafusion = { version = \"6.0.0\" }\n",
    ":dep tokio = { version = \"1.15.0\", features = [\"full\"] }"
   ]
  },
  {
   "cell_type": "code",
   "execution_count": 24,
   "id": "a0ecc13d-6c28-4464-b7c8-2418d7fc752e",
   "metadata": {},
   "outputs": [
    {
     "data": {
      "text/html": [
       "<span style=\"color: rgba(0,0,0,0.4);\">Took 791ms</span>"
      ]
     },
     "execution_count": 24,
     "metadata": {},
     "output_type": "execute_result"
    }
   ],
   "source": [
    "use datafusion::prelude::*;\n",
    "use tokio;"
   ]
  },
  {
   "cell_type": "code",
   "execution_count": 39,
   "id": "232fabb6-1015-4221-9fe2-b9a03dfe5997",
   "metadata": {},
   "outputs": [
    {
     "ename": "Error",
     "evalue": "the `?` operator can only be used in an async block that returns `Result` or `Option` (or another type that implements `FromResidual`)",
     "output_type": "error",
     "traceback": [
      "    let dataframe = context.read_csv(\"github-timeline-sample.csv\", CsvReadOptions::new()).await?;",
      "\u001b[91m                                                                                               ^\u001b[0m \u001b[94mcannot use the `?` operator in an async block that returns `()`\u001b[0m",
      "async fn main() {",
      "    let mut context = ExecutionContext::new();",
      "    let dataframe = context.read_csv(\"github-timeline-sample.csv\", CsvReadOptions::new()).await?;",
      "    dataframe.show_limit(5).await?;",
      "}",
      "\u001b[91m                \u001b[0m \u001b[94mthis function should return `Result` or `Option` to accept `?`\u001b[0m",
      "the `?` operator can only be used in an async block that returns `Result` or `Option` (or another type that implements `FromResidual`)",
      "\u001b[1mhelp\u001b[0m: the trait `FromResidual<Result<Infallible, DataFusionError>>` is not implemented for `()`"
     ]
    },
    {
     "ename": "Error",
     "evalue": "the `?` operator can only be used in an async block that returns `Result` or `Option` (or another type that implements `FromResidual`)",
     "output_type": "error",
     "traceback": [
      "    dataframe.show_limit(5).await?;",
      "\u001b[91m                                 ^\u001b[0m \u001b[94mcannot use the `?` operator in an async block that returns `()`\u001b[0m",
      "async fn main() {",
      "    let mut context = ExecutionContext::new();",
      "    let dataframe = context.read_csv(\"github-timeline-sample.csv\", CsvReadOptions::new()).await?;",
      "    dataframe.show_limit(5).await?;",
      "}",
      "\u001b[91m                \u001b[0m \u001b[94mthis function should return `Result` or `Option` to accept `?`\u001b[0m",
      "the `?` operator can only be used in an async block that returns `Result` or `Option` (or another type that implements `FromResidual`)",
      "\u001b[1mhelp\u001b[0m: the trait `FromResidual<Result<Infallible, DataFusionError>>` is not implemented for `()`"
     ]
    }
   ],
   "source": [
    "#[tokio::main]\n",
    "async fn main()  {\n",
    "    let mut context = ExecutionContext::new();\n",
    "    let dataframe = context.read_csv(\"github-timeline-sample.csv\", CsvReadOptions::new()).await?;\n",
    "    dataframe.show_limit(5).await?;\n",
    "}\n",
    "\n",
    "main()"
   ]
  },
  {
   "cell_type": "code",
   "execution_count": 38,
   "id": "d7c2afd8-1a67-4514-88d8-3703cdeae4ab",
   "metadata": {},
   "outputs": [
    {
     "ename": "Error",
     "evalue": "cannot find function `run` in crate `tokio`",
     "output_type": "error",
     "traceback": [
      "tokio::run(dataframe.show_limit(5).await?);",
      "\u001b[91m       ^^^\u001b[0m \u001b[94mnot found in `tokio`\u001b[0m",
      "cannot find function `run` in crate `tokio`"
     ]
    },
    {
     "ename": "Error",
     "evalue": "cannot find value `dataframe` in this scope",
     "output_type": "error",
     "traceback": [
      "tokio::run(dataframe.show_limit(5).await?);",
      "\u001b[91m           ^^^^^^^^^\u001b[0m \u001b[94mnot found in this scope\u001b[0m",
      "cannot find value `dataframe` in this scope"
     ]
    }
   ],
   "source": [
    "#[tokio::main(flavor = \"current_thread\")]\n",
    "async fn main() {\n",
    "    println!(\"Hello world\");\n",
    "}"
   ]
  },
  {
   "cell_type": "code",
   "execution_count": 33,
   "id": "7f0f169c-9377-443b-a546-547c773f3db1",
   "metadata": {},
   "outputs": [
    {
     "data": {
      "text/html": [
       "<span style=\"color: rgba(0,0,0,0.4);\">Took 891ms</span>"
      ]
     },
     "execution_count": 33,
     "metadata": {},
     "output_type": "execute_result"
    },
    {
     "name": "stdout",
     "output_type": "stream",
     "text": [
      "16\n"
     ]
    }
   ],
   "source": []
  },
  {
   "cell_type": "code",
   "execution_count": null,
   "id": "c04e4144-9a92-43a4-a4e1-a5b723c6d7e3",
   "metadata": {},
   "outputs": [],
   "source": []
  }
 ],
 "metadata": {
  "kernelspec": {
   "display_name": "Rust",
   "language": "rust",
   "name": "rust"
  },
  "language_info": {
   "codemirror_mode": "rust",
   "file_extension": ".rs",
   "mimetype": "text/rust",
   "name": "Rust",
   "pygment_lexer": "rust",
   "version": ""
  }
 },
 "nbformat": 4,
 "nbformat_minor": 5
}
