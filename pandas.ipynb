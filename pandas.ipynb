{
 "cells": [
  {
   "cell_type": "code",
   "execution_count": 2,
   "id": "6e9031ff-c850-4b4e-ac5a-4420849a58b9",
   "metadata": {},
   "outputs": [],
   "source": [
    "import pandas as pd"
   ]
  },
  {
   "cell_type": "code",
   "execution_count": 3,
   "id": "07403405-1c51-46e0-a270-c19b710a7421",
   "metadata": {},
   "outputs": [],
   "source": [
    "dataframe = pd.read_csv(\"github-timeline-sample.csv\", low_memory=False)"
   ]
  },
  {
   "cell_type": "code",
   "execution_count": 7,
   "id": "15a85cc0-45fa-40fc-b48e-e7bc3e8b2b56",
   "metadata": {},
   "outputs": [],
   "source": [
    "dataframe.head()"
   ]
  },
  {
   "cell_type": "code",
   "execution_count": 9,
   "id": "b17e8d4b-1144-445c-8e5a-5bc27a4c4469",
   "metadata": {},
   "outputs": [
    {
     "name": "stdout",
     "output_type": "stream",
     "text": [
      "Elapsed time: 239.5559 seconds\n",
      "<class 'pandas.core.frame.DataFrame'>\n",
      "RangeIndex: 6219749 entries, 0 to 6219748\n",
      "Columns: 199 entries, repository_url to type\n",
      "dtypes: float64(43), object(156)\n",
      "memory usage: 37.1 GB\n"
     ]
    }
   ],
   "source": []
  },
  {
   "cell_type": "code",
   "execution_count": null,
   "id": "1c89d4dd-511a-41be-8a73-c5fb097bb26d",
   "metadata": {},
   "outputs": [],
   "source": []
  }
 ],
 "metadata": {
  "kernelspec": {
   "display_name": "Python 3 (ipykernel)",
   "language": "python",
   "name": "python3"
  },
  "language_info": {
   "codemirror_mode": {
    "name": "ipython",
    "version": 3
   },
   "file_extension": ".py",
   "mimetype": "text/x-python",
   "name": "python",
   "nbconvert_exporter": "python",
   "pygments_lexer": "ipython3",
   "version": "3.10.1"
  }
 },
 "nbformat": 4,
 "nbformat_minor": 5
}
